{
  "nbformat": 4,
  "nbformat_minor": 0,
  "metadata": {
    "colab": {
      "name": "BA_Lab_RL.ipynb",
      "provenance": [],
      "collapsed_sections": []
    },
    "kernelspec": {
      "name": "python3",
      "display_name": "Python 3"
    }
  },
  "cells": [
    {
      "cell_type": "code",
      "metadata": {
        "id": "r1dIpRr5eBRT",
        "colab_type": "code",
        "outputId": "723dedb3-9024-4c2a-bae2-753eebf3879e",
        "colab": {
          "base_uri": "https://localhost:8080/",
          "height": 35
        }
      },
      "source": [
        "%tensorflow_version 1.x"
      ],
      "execution_count": 0,
      "outputs": [
        {
          "output_type": "stream",
          "text": [
            "TensorFlow 1.x selected.\n"
          ],
          "name": "stdout"
        }
      ]
    },
    {
      "cell_type": "code",
      "metadata": {
        "id": "KED8PTNxeL-_",
        "colab_type": "code",
        "outputId": "8bb055dd-758e-484c-a538-e7b98622a073",
        "colab": {
          "base_uri": "https://localhost:8080/",
          "height": 35
        }
      },
      "source": [
        "import tensorflow as tf\n",
        "print(tf.__version__)"
      ],
      "execution_count": 0,
      "outputs": [
        {
          "output_type": "stream",
          "text": [
            "1.15.2\n"
          ],
          "name": "stdout"
        }
      ]
    },
    {
      "cell_type": "code",
      "metadata": {
        "id": "e93OHpJ2et7T",
        "colab_type": "code",
        "colab": {}
      },
      "source": [
        "import numpy as np"
      ],
      "execution_count": 0,
      "outputs": []
    },
    {
      "cell_type": "code",
      "metadata": {
        "id": "d2YD2eVqevix",
        "colab_type": "code",
        "colab": {}
      },
      "source": [
        "def pullBandit(bandit):\n",
        "    result = np.random.randn(1)\n",
        "    if result > bandit:\n",
        "        return 1\n",
        "    else:\n",
        "        return -1\n",
        "\n",
        "bandits = [0.2, 0 , -0.2, -5] \n",
        "num_bandits = len(bandits)"
      ],
      "execution_count": 0,
      "outputs": []
    },
    {
      "cell_type": "code",
      "metadata": {
        "id": "hgooHMtXe2Pj",
        "colab_type": "code",
        "colab": {}
      },
      "source": [
        "tf.reset_default_graph()\n",
        "\n",
        "weights = tf.Variable(tf.ones([num_bandits]))\n",
        "chosen_action = tf.argmax(weights,0)\n",
        "\n",
        "reward_holder = tf.placeholder(shape=[1],dtype=tf.float32)\n",
        "action_holder = tf.placeholder(shape=[1],dtype=tf.int32)\n",
        "\n",
        "responsible_weight = tf.slice(weights, action_holder,[1])\n",
        "\n",
        "loss = -(tf.log(responsible_weight)*reward_holder)\n",
        "optimizer = tf.train.GradientDescentOptimizer(learning_rate=0.001)\n",
        "update = optimizer.minimize(loss)"
      ],
      "execution_count": 0,
      "outputs": []
    },
    {
      "cell_type": "code",
      "metadata": {
        "id": "yNdE2SmnfIF2",
        "colab_type": "code",
        "outputId": "d3c0a250-3d77-4334-caec-eb10dcea3b2f",
        "colab": {
          "base_uri": "https://localhost:8080/",
          "height": 377
        }
      },
      "source": [
        "total_episodes = 1000 \n",
        "total_reward = np.zeros(num_bandits) \n",
        "e = 0.1  \n",
        "\n",
        "init = tf.global_variables_initializer()\n",
        "\n",
        "with tf.Session() as sess:\n",
        "    sess.run(init)\n",
        "    i = 0\n",
        "    while i < total_episodes:\n",
        "  \n",
        "        if np.random.rand(1) < e:\n",
        "            action = np.random.randint(num_bandits)\n",
        "        else:\n",
        "            action = sess.run(chosen_action)\n",
        "        \n",
        "        reward = pullBandit(bandits[action])\n",
        "        \n",
        "        _, resp, ww = sess.run([update, responsible_weight, weights], feed_dict={reward_holder:[reward],action_holder:[action]})\n",
        "        \n",
        "        total_reward[action] += reward\n",
        "        if i % 50 == 0:\n",
        "            print( \"Running reward for the \" + str(num_bandits) + \" bandits: \" + str(total_reward))\n",
        "        i+=1"
      ],
      "execution_count": 0,
      "outputs": [
        {
          "output_type": "stream",
          "text": [
            "Running reward for the 4 bandits: [1. 0. 0. 0.]\n",
            "Running reward for the 4 bandits: [ 0.  2. -1. 42.]\n",
            "Running reward for the 4 bandits: [ 0.  1. -2. 90.]\n",
            "Running reward for the 4 bandits: [  1.  -1.  -2. 137.]\n",
            "Running reward for the 4 bandits: [  1.  -1.  -3. 186.]\n",
            "Running reward for the 4 bandits: [ -1.   1.  -3. 232.]\n",
            "Running reward for the 4 bandits: [ -1.   1.  -3. 282.]\n",
            "Running reward for the 4 bandits: [ -1.   1.  -2. 331.]\n",
            "Running reward for the 4 bandits: [ -2.   0.  -2. 375.]\n",
            "Running reward for the 4 bandits: [ -2.   0.  -2. 425.]\n",
            "Running reward for the 4 bandits: [ -1.   1.   0. 471.]\n",
            "Running reward for the 4 bandits: [ -1.   0.   0. 518.]\n",
            "Running reward for the 4 bandits: [ -3.   0.   1. 565.]\n",
            "Running reward for the 4 bandits: [ -3.   1.   2. 613.]\n",
            "Running reward for the 4 bandits: [ -3.   1.   2. 661.]\n",
            "Running reward for the 4 bandits: [ -4.   3.   5. 705.]\n",
            "Running reward for the 4 bandits: [ -4.   1.   4. 752.]\n",
            "Running reward for the 4 bandits: [ -5.   1.   6. 799.]\n",
            "Running reward for the 4 bandits: [ -4.   1.   8. 844.]\n",
            "Running reward for the 4 bandits: [ -5.   0.   9. 891.]\n"
          ],
          "name": "stdout"
        }
      ]
    },
    {
      "cell_type": "code",
      "metadata": {
        "id": "PT9oe2Wfflj-",
        "colab_type": "code",
        "outputId": "33c48ef4-2228-4f04-a880-f125ad9682bf",
        "colab": {
          "base_uri": "https://localhost:8080/",
          "height": 53
        }
      },
      "source": [
        "print (\"The agent thinks bandit \" + str(np.argmax(ww)+1) + \" is the most promising....\")\n",
        "if np.argmax(ww) == np.argmax(-np.array(bandits)):\n",
        "    print (\"...and it was right!\")\n",
        "else:\n",
        "    print (\"...and it was wrong!\")"
      ],
      "execution_count": 0,
      "outputs": [
        {
          "output_type": "stream",
          "text": [
            "The agent thinks bandit 4 is the most promising....\n",
            "...and it was right!\n"
          ],
          "name": "stdout"
        }
      ]
    }
  ]
}